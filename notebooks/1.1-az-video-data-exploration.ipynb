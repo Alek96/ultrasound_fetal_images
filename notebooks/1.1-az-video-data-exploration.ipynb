{
 "cells": [
  {
   "cell_type": "code",
   "execution_count": null,
   "metadata": {},
   "outputs": [],
   "source": [
    "import csv\n",
    "import itertools\n",
    "import pathlib\n",
    "import shutil\n",
    "from math import ceil, sqrt\n",
    "from pathlib import Path\n",
    "from typing import Callable, List, Optional, Tuple\n",
    "\n",
    "import cv2\n",
    "import matplotlib.pyplot as plt\n",
    "import numpy as np\n",
    "import pandas as pd\n",
    "import PIL\n",
    "import pyrootutils\n",
    "import torch\n",
    "import torch.nn.functional as F\n",
    "import torchvision.transforms as T\n",
    "import torchvision.transforms.functional as TF\n",
    "from skimage.metrics import structural_similarity\n",
    "from sklearn.model_selection import GroupShuffleSplit\n",
    "from torch import Tensor\n",
    "from torch.utils.data import ConcatDataset, Dataset\n",
    "from torchvision.io import read_image\n",
    "from tqdm.notebook import tqdm\n",
    "\n",
    "root = pyrootutils.setup_root(search_from=\".\", indicator=\".project-root\", pythonpath=True)\n",
    "\n",
    "from src.data.components.dataset import FetalBrainPlanesDataset, USVideosDataset\n",
    "from src.data.components.transforms import Affine, HorizontalFlip\n",
    "from src.data.utils.utils import show_numpy_images, show_pytorch_images\n",
    "from src.models.fetal_module import FetalLitModule\n",
    "\n",
    "path = root / \"data\" / \"US_VIDEOS\"\n",
    "root"
   ]
  },
  {
   "cell_type": "code",
   "execution_count": null,
   "metadata": {},
   "outputs": [],
   "source": [
    "x = torch.tensor([1.0, 2.0, 3.0])\n",
    "y = torch.tensor([2.0, 1.0, 1.0])\n",
    "\n",
    "loss = x - y\n",
    "\n",
    "print(loss)\n",
    "\n",
    "weight = torch.ones(loss.shape, device=loss.device)\n",
    "weight = torch.masked_fill(weight, loss > 0, 2)\n",
    "print(weight)\n",
    "loss = loss * weight\n",
    "print(loss)\n",
    "\n",
    "loss = torch.mul(loss, loss)\n",
    "print(loss)\n",
    "\n",
    "torch.mean(loss)"
   ]
  },
  {
   "cell_type": "code",
   "execution_count": null,
   "metadata": {},
   "outputs": [],
   "source": [
    "shutil.rmtree(path / \"selected\", ignore_errors=True)\n",
    "shutil.rmtree(path / \"labeled\", ignore_errors=True)"
   ]
  },
  {
   "cell_type": "code",
   "execution_count": null,
   "metadata": {},
   "outputs": [],
   "source": [
    "# checkpoint_file = root / \"logs\" / \"train\" / \"runs\" / \"2023-02-21_18-51-47\"\n",
    "# checkpoint_file = root / \"logs\" / \"train\" / \"runs\" / \"2023-02-24_18-37-02\"\n",
    "checkpoint_file = root / \"logs\" / \"train\" / \"runs\" / \"2023-02-25_19-43-37\"\n",
    "\n",
    "checkpoint = sorted(checkpoint_file.glob(\"checkpoints/epoch_*.ckpt\"))[-1]\n",
    "model = FetalLitModule.load_from_checkpoint(str(checkpoint))\n",
    "# disable randomness, dropout, etc...\n",
    "model.eval()\n",
    "\n",
    "model.hparams.net_spec.name"
   ]
  },
  {
   "cell_type": "code",
   "execution_count": null,
   "metadata": {},
   "outputs": [],
   "source": [
    "def label_video(video_path: Path):\n",
    "    y_hats = []\n",
    "    all_logits = []\n",
    "    all_dense_logits = []\n",
    "\n",
    "    vidcap = cv2.VideoCapture(str(video_path))\n",
    "    for frame in _frame_iter(vidcap, \"Label frames\"):\n",
    "        frame = PIL.Image.fromarray(frame)\n",
    "        frame = TF.to_tensor(frame)\n",
    "        frame = frame.to(model.device)\n",
    "        frames = torch.stack([transform(frame) for transform in transforms])\n",
    "\n",
    "        with torch.no_grad():\n",
    "            dense_logits, logits = model(frames)\n",
    "            y_hat = F.softmax(logits, dim=1)\n",
    "            y_hats.append(y_hat)\n",
    "            all_logits.append(logits)\n",
    "            all_dense_logits.append(dense_logits)\n",
    "\n",
    "    return torch.stack(all_dense_logits, dim=1), torch.stack(all_logits, dim=1), torch.stack(y_hats, dim=1)\n",
    "\n",
    "\n",
    "def _frame_iter(capture, description):\n",
    "    def iterator():\n",
    "        while capture.grab():\n",
    "            yield capture.retrieve()[1]\n",
    "\n",
    "    return tqdm(\n",
    "        iterator(),\n",
    "        desc=description,\n",
    "        total=int(capture.get(cv2.CAP_PROP_FRAME_COUNT)),\n",
    "        position=0,\n",
    "        leave=False,\n",
    "    )\n",
    "\n",
    "\n",
    "def lable_transform_video(video_path, horizontal_flips, rotate_degrees, translates, scales):\n",
    "    global transforms\n",
    "\n",
    "    transforms = [\n",
    "        T.Compose(\n",
    "            [\n",
    "                T.Grayscale(),\n",
    "                T.Resize((165, 240)),\n",
    "                HorizontalFlip(flip=horizontal_flip),\n",
    "                Affine(degrees=rotate_degree, translate=translate, scale=scale),\n",
    "                T.ConvertImageDtype(torch.float32),\n",
    "            ]\n",
    "        )\n",
    "        for horizontal_flip, rotate_degree, translate, scale in itertools.product(\n",
    "            horizontal_flips, rotate_degrees, translates, scales\n",
    "        )\n",
    "    ]\n",
    "\n",
    "    return label_video(video_path)\n",
    "\n",
    "\n",
    "# device = \"cuda\" if torch.cuda.is_available() else \"cpu\"\n",
    "device = \"cpu\"\n",
    "model.to(device)\n",
    "video_path = sorted((path / \"videos\" / \"test\").iterdir())[0]\n",
    "\n",
    "_, logits, y_hats = lable_transform_video(\n",
    "    video_path=video_path,\n",
    "    horizontal_flips=[False, True],\n",
    "    rotate_degrees=[0, -15, 15],\n",
    "    translates=[(0.0, 0.0), (0.1, 0.1), (-0.1, 0.1), (-0.1, -0.1), (0.1, -0.1)],\n",
    "    scales=[1.0, 1.2],\n",
    ")\n",
    "y_hats.shape"
   ]
  },
  {
   "cell_type": "code",
   "execution_count": null,
   "metadata": {},
   "outputs": [],
   "source": [
    "def plot_probabilities(y_hats, ax):\n",
    "    x = list(range(y_hats.shape[0]))\n",
    "\n",
    "    for i, label in enumerate(label_def):\n",
    "        ax.plot(x, y_hats[:, i], label=label)\n",
    "\n",
    "    ax.legend()\n",
    "\n",
    "\n",
    "def plot_best_probabilities(y_hats, ax):\n",
    "    x = torch.zeros((y_hats.shape[1], 0)).tolist()\n",
    "    y = torch.zeros((y_hats.shape[1], 0)).tolist()\n",
    "\n",
    "    for i, y_hat in enumerate(y_hats):\n",
    "        best = torch.argmax(y_hat)\n",
    "        x[best].append(i)\n",
    "        y[best].append(y_hat[best])\n",
    "\n",
    "    for i, label in enumerate(label_def):\n",
    "        ax.plot(x[i], y[i], \"o\", markersize=2, label=label)\n",
    "\n",
    "    ax.legend()\n",
    "\n",
    "\n",
    "def is_stable(y, i):\n",
    "    min_i = max(0, i - window)\n",
    "    max_i = min(i + window, len(y) - 1)\n",
    "\n",
    "    if min_i > i - window or max_i < i + window:\n",
    "        return False\n",
    "\n",
    "    for j in range(min_i, max_i + 1):\n",
    "        if y[j] == 0.0:\n",
    "            return False\n",
    "\n",
    "    return True\n",
    "\n",
    "\n",
    "def plot_filtered_probabilities(y_hats, ax):\n",
    "    x = torch.arange(0, y_hats.shape[0]).int().repeat(y_hats.shape[1], 1).tolist()\n",
    "    y = torch.zeros((y_hats.shape[1], y_hats.shape[0])).tolist()\n",
    "\n",
    "    for i, y_hat in enumerate(y_hats):\n",
    "        best = torch.argmax(y_hat)\n",
    "        y[best][i] = y_hat[best]\n",
    "\n",
    "    for i in range(len(y)):\n",
    "        to_delete = []\n",
    "\n",
    "        for j in range(len(y[i])):\n",
    "            if not is_stable(y[i], j):\n",
    "                to_delete.append(j)\n",
    "\n",
    "        to_delete.sort(reverse=True)\n",
    "        for j in to_delete:\n",
    "            x[i].pop(j)\n",
    "            y[i].pop(j)\n",
    "\n",
    "    for i, label in enumerate(label_def):\n",
    "        ax.plot(x[i], y[i], \"o\", markersize=2, label=label)\n",
    "\n",
    "    ax.legend()\n",
    "\n",
    "\n",
    "def plot_base_probabilities(y_hats):\n",
    "    ncols = 3\n",
    "    nrows = len(y_hats)\n",
    "    fig, axes = plt.subplots(\n",
    "        ncols=ncols,\n",
    "        nrows=nrows,\n",
    "        sharex=True,\n",
    "        sharey=True,\n",
    "        squeeze=False,\n",
    "        tight_layout=True,\n",
    "        figsize=(10 * ncols, 5 * nrows),\n",
    "    )\n",
    "\n",
    "    for i in range(nrows):\n",
    "        plot_probabilities(y_hats[i], axes[i, 0])\n",
    "        plot_best_probabilities(y_hats[i], axes[i, 1])\n",
    "        plot_filtered_probabilities(y_hats[i], axes[i, 2])\n",
    "\n",
    "    for ax in axes:\n",
    "        ax[0].set_xlim(left=0, right=y_hats.shape[1])\n",
    "        ax[0].set_ylim(bottom=0, top=1)\n",
    "\n",
    "\n",
    "label_def = FetalBrainPlanesDataset.labels\n",
    "\n",
    "window = 3\n",
    "temperature = 1.0\n",
    "y_hats_ = F.softmax(logits / temperature, dim=2)\n",
    "plot_base_probabilities(y_hats_[:1].cpu())\n",
    "\n",
    "# fig, axes = plt.subplots(ncols=1, nrows=1, tight_layout=True, figsize=(10, 5))\n",
    "# plot_filtered_probabilities(y_hats[0].cpu(), axes)\n",
    "# axes.set_xlim(left=0, right=y_hats.shape[1])\n",
    "# axes.set_ylim(bottom=0, top=1)"
   ]
  },
  {
   "cell_type": "code",
   "execution_count": null,
   "metadata": {},
   "outputs": [],
   "source": [
    "y_hats_ = torch.tensor(\n",
    "    [\n",
    "        [[1.0, 2.0, 3.0], [2.0, 3.0, 4.0], [3.0, 4.0, 5.0], [1.0, 3.0, 2.0], [1.0, 3.0, 2.0]],\n",
    "        [[1.0, 4.0, 2.0], [2.0, 4.0, 3.0], [3.0, 4.0, 6.0], [1.0, 4.0, 2.0], [1.0, 5.0, 2.0]],\n",
    "    ]\n",
    ")\n",
    "print(y_hats_.shape)\n",
    "\n",
    "pred = torch.argmax(y_hats_, dim=2)\n",
    "print(pred.shape)\n",
    "print(pred)\n",
    "\n",
    "y_hats_ = y_hats_ * F.one_hot(pred)\n",
    "# mask = F.one_hot(pred) == 0\n",
    "# y_hats_ = torch.masked_fill(y_hats_, mask, 0.0)\n",
    "\n",
    "print(y_hats_)"
   ]
  },
  {
   "cell_type": "code",
   "execution_count": null,
   "metadata": {},
   "outputs": [],
   "source": [
    "window = 1\n",
    "for i in range(pred.shape[0]):\n",
    "    for j in range(pred.shape[1]):\n",
    "        min_j = max(0, j - window)\n",
    "        max_j = min(j + window + 1, pred.shape[1])\n",
    "\n",
    "        if not torch.all(pred[i, min_j:max_j] == pred[i, j]):\n",
    "            y_hats_[i, j, pred[i, j]] = 0\n",
    "\n",
    "y_hats_"
   ]
  },
  {
   "cell_type": "code",
   "execution_count": null,
   "metadata": {},
   "outputs": [],
   "source": [
    "window = 1\n",
    "for i in range(pred.shape[0]):\n",
    "    for j in range(pred.shape[1]):\n",
    "        if torch.sum(pred[i, j - window : j + window + 1] == pred[i, j]) < 1 + 2 * window:\n",
    "            y_hats_[i, j, pred[i, j]] = 0\n",
    "\n",
    "y_hats_"
   ]
  },
  {
   "cell_type": "code",
   "execution_count": null,
   "metadata": {},
   "outputs": [],
   "source": [
    "y_hats_.shape"
   ]
  },
  {
   "cell_type": "code",
   "execution_count": null,
   "metadata": {},
   "outputs": [],
   "source": [
    "y_hats__ = torch.mean(y_hats_, dim=0)\n",
    "print(y_hats__.shape)\n",
    "print(y_hats__)\n",
    "\n",
    "plates = y_hats__[:, :2]\n",
    "other = y_hats__[:, 2:]\n",
    "\n",
    "quality = torch.sum(plates, dim=1) - torch.sum(other, dim=1)\n",
    "print(quality)\n",
    "\n",
    "quality = quality / torch.sum(plates > 0, dim=1)\n",
    "zaro_mask = torch.eq(quality > 0, False)\n",
    "torch.masked_fill(quality, zaro_mask, 0.0)"
   ]
  },
  {
   "cell_type": "code",
   "execution_count": null,
   "metadata": {},
   "outputs": [],
   "source": [
    "def calculate_quality(y_hats: Tensor):\n",
    "    # select highest prediction\n",
    "    pred = torch.argmax(y_hats, dim=2)\n",
    "    y_hats = y_hats * F.one_hot(pred, num_classes=y_hats.shape[2])\n",
    "\n",
    "    # remove predictions that are inconsistent\n",
    "    for i in range(pred.shape[0]):\n",
    "        for j in range(pred.shape[1]):\n",
    "            min_j = max(0, j - window)\n",
    "            max_j = min(j + window + 1, pred.shape[1])\n",
    "\n",
    "            if not torch.all(torch.eq(pred[i, min_j:max_j], pred[i, j])):\n",
    "                y_hats[i, j, pred[i, j]] = 0\n",
    "\n",
    "    # average of all transformations\n",
    "    y_hats = torch.mean(y_hats, dim=0)  # ???\n",
    "\n",
    "    # (sum planes' prediction - sum no planes' prediction) / (number of planes' prediction greater than 0)\n",
    "    plates = y_hats[:, :3]\n",
    "    other = y_hats[:, 3:]\n",
    "    quality = torch.sum(plates, dim=1) - torch.sum(other, dim=1)\n",
    "    quality = quality / torch.sum(plates > 0, dim=1)\n",
    "    zaro_mask = torch.eq(quality > 0, False)\n",
    "    quality.masked_fill_(zaro_mask, 0.0)\n",
    "\n",
    "    return y_hats, quality\n",
    "\n",
    "\n",
    "def plot_quality(y_hats: Tensor, quality: Tensor):\n",
    "    fig, axes = plt.subplots(ncols=1, nrows=3, tight_layout=True, figsize=(10, 15))\n",
    "\n",
    "    for i, label in enumerate(label_def):\n",
    "        x, y = extract_nonzero_values(y_hats[:, i])\n",
    "        axes[0].plot(x, y, \"o\", markersize=2, label=label)\n",
    "        axes[0].legend()\n",
    "    axes[1].plot(range(len(quality)), quality, \"o\", markersize=2, color=\"tab:gray\")\n",
    "    axes[2].plot(range(len(quality)), quality, color=\"tab:gray\")\n",
    "\n",
    "    for ax in axes:\n",
    "        ax.set_xlim(left=0, right=len(quality))\n",
    "        ax.set_ylim(bottom=0, top=1)\n",
    "\n",
    "    return fig\n",
    "\n",
    "\n",
    "def extract_nonzero_values(y_hats):\n",
    "    x = []\n",
    "    y = []\n",
    "    for i, y_hat in enumerate(y_hats):\n",
    "        if y_hat > 0:\n",
    "            x.append(i)\n",
    "            y.append(y_hat)\n",
    "    return x, y\n",
    "\n",
    "\n",
    "window = 3\n",
    "temperature = 1.0\n",
    "y_hats_ = F.softmax(logits / temperature, dim=2)\n",
    "# y_hats_ = y_hats.clone()\n",
    "label_def = FetalBrainPlanesDataset.labels\n",
    "\n",
    "y_hats_, quality = calculate_quality(y_hats_)\n",
    "plot_quality(y_hats_.cpu(), quality.cpu()).show()"
   ]
  },
  {
   "cell_type": "code",
   "execution_count": null,
   "metadata": {},
   "outputs": [],
   "source": [
    "def calculate_quality(y_hats: Tensor):\n",
    "    # select highest prediction\n",
    "    pred = torch.argmax(y_hats, dim=2)\n",
    "    y_hats = y_hats * F.one_hot(pred, num_classes=y_hats.shape[2])\n",
    "\n",
    "    # remove predictions that are inconsistent\n",
    "    for i in range(pred.shape[0]):\n",
    "        for j in range(pred.shape[1]):\n",
    "            min_j = max(0, j - window)\n",
    "            max_j = min(j + window + 1, pred.shape[1])\n",
    "\n",
    "            if not torch.all(torch.eq(pred[i, min_j:max_j], pred[i, j])):\n",
    "                y_hats[i, j, pred[i, j]] = 0\n",
    "\n",
    "    # average of all transformations\n",
    "    y_hats = torch.mean(y_hats, dim=0)\n",
    "\n",
    "    # (the best prediction - sum of the rest prediction)\n",
    "    plates = y_hats[:, :3]\n",
    "    quality = torch.amax(plates, dim=1)\n",
    "    quality = (quality * 2) - torch.sum(y_hats, dim=1)\n",
    "    zaro_mask = torch.eq(quality > 0, False)\n",
    "    quality.masked_fill_(zaro_mask, 0.0)\n",
    "\n",
    "    return y_hats, quality\n",
    "\n",
    "\n",
    "window = 3\n",
    "temperature = 1.0\n",
    "y_hats_ = F.softmax(logits / temperature, dim=2)\n",
    "# y_hats_ = y_hats.clone()\n",
    "label_def = FetalBrainPlanesDataset.labels\n",
    "\n",
    "y_hats_, quality = calculate_quality(y_hats_)\n",
    "plot_quality(y_hats_.cpu(), quality.cpu()).show()"
   ]
  },
  {
   "cell_type": "code",
   "execution_count": null,
   "metadata": {},
   "outputs": [],
   "source": [
    "def load_logits(data_path: Path):\n",
    "    dense = []\n",
    "    for path in sorted(data_path.iterdir()):\n",
    "        logits, _, _ = torch.load(path)\n",
    "        dense.append(logits.view(-1, logits.size(-1)))\n",
    "    return torch.cat(dense)\n",
    "\n",
    "\n",
    "def save_std_mean(data_path: Path, logits):\n",
    "    std_mean = torch.std_mean(logits, unbiased=False, dim=0)\n",
    "    torch.save(std_mean, f\"{data_path}/std_mean.pt\")\n",
    "    print(std_mean[0].shape)\n",
    "\n",
    "\n",
    "path = root / \"data\" / \"US_VIDEOS_tran\" / \"data\"\n",
    "dense = load_logits(path / \"train\")\n",
    "save_std_mean(path, dense)"
   ]
  },
  {
   "cell_type": "markdown",
   "metadata": {},
   "source": [
    "# Test transfor operation to quality plot"
   ]
  },
  {
   "cell_type": "code",
   "execution_count": null,
   "metadata": {},
   "outputs": [],
   "source": [
    "device = \"cuda\"\n",
    "model.to(device)\n",
    "video_path = sorted((path / \"videos\" / \"test\").iterdir())[0]\n",
    "\n",
    "window = 3\n",
    "temperature = 1.0"
   ]
  },
  {
   "cell_type": "code",
   "execution_count": null,
   "metadata": {},
   "outputs": [],
   "source": [
    "def plot_quality(y_hats: Tensor, quality: Tensor):\n",
    "    fig, axes = plt.subplots(ncols=2, nrows=1, tight_layout=True, figsize=(20, 5))\n",
    "\n",
    "    for i, label in enumerate(label_def):\n",
    "        x, y = extract_nonzero_values(y_hats[:, i])\n",
    "        axes[0].plot(x, y, \"o\", markersize=2, label=label)\n",
    "        axes[0].legend()\n",
    "    #     axes[1].plot(range(len(quality)), quality, \"o\", markersize=2, color=\"tab:gray\")\n",
    "    axes[1].plot(range(len(quality)), quality, color=\"tab:gray\")\n",
    "\n",
    "    for ax in axes:\n",
    "        ax.set_xlim(left=0, right=len(quality))\n",
    "        ax.set_ylim(bottom=0, top=1)\n",
    "\n",
    "    return fig"
   ]
  },
  {
   "cell_type": "code",
   "execution_count": null,
   "metadata": {},
   "outputs": [],
   "source": [
    "_, logits, y_hats = lable_transform_video(\n",
    "    video_path=video_path, horizontal_flips=[False], rotate_degrees=[0], translates=[(0.0, 0.0)], scales=[1.0]\n",
    ")\n",
    "y_hats.shape"
   ]
  },
  {
   "cell_type": "code",
   "execution_count": null,
   "metadata": {},
   "outputs": [],
   "source": [
    "y_hats_ = F.softmax(logits / temperature, dim=2)\n",
    "\n",
    "plot_base_probabilities(y_hats_[:1].cpu())"
   ]
  },
  {
   "cell_type": "code",
   "execution_count": null,
   "metadata": {},
   "outputs": [],
   "source": [
    "y_hats_, quality = calculate_quality(y_hats_)\n",
    "plot_quality(y_hats_.cpu(), quality.cpu()).show()"
   ]
  },
  {
   "cell_type": "code",
   "execution_count": null,
   "metadata": {},
   "outputs": [],
   "source": [
    "_, logits, y_hats = lable_transform_video(\n",
    "    video_path=video_path, horizontal_flips=[False, True], rotate_degrees=[0], translates=[(0.0, 0.0)], scales=[1.0]\n",
    ")\n",
    "\n",
    "y_hats.shape"
   ]
  },
  {
   "cell_type": "code",
   "execution_count": null,
   "metadata": {},
   "outputs": [],
   "source": [
    "y_hats_ = F.softmax(logits / temperature, dim=2)\n",
    "\n",
    "plot_base_probabilities(y_hats_[:2].cpu())"
   ]
  },
  {
   "cell_type": "code",
   "execution_count": null,
   "metadata": {},
   "outputs": [],
   "source": [
    "y_hats_, quality = calculate_quality(y_hats_)\n",
    "plot_quality(y_hats_.cpu(), quality.cpu()).show()"
   ]
  },
  {
   "cell_type": "code",
   "execution_count": null,
   "metadata": {},
   "outputs": [],
   "source": [
    "_, logits, y_hats = lable_transform_video(\n",
    "    video_path=video_path, horizontal_flips=[False], rotate_degrees=[0, -15, 15], translates=[(0.0, 0.0)], scales=[1.0]\n",
    ")\n",
    "y_hats.shape"
   ]
  },
  {
   "cell_type": "code",
   "execution_count": null,
   "metadata": {},
   "outputs": [],
   "source": [
    "y_hats_ = F.softmax(logits / temperature, dim=2)\n",
    "\n",
    "plot_base_probabilities(y_hats_[:3].cpu())"
   ]
  },
  {
   "cell_type": "code",
   "execution_count": null,
   "metadata": {},
   "outputs": [],
   "source": [
    "y_hats_, quality = calculate_quality(y_hats_)\n",
    "plot_quality(y_hats_.cpu(), quality.cpu()).show()"
   ]
  },
  {
   "cell_type": "code",
   "execution_count": null,
   "metadata": {},
   "outputs": [],
   "source": [
    "_, logits, y_hats = lable_transform_video(\n",
    "    video_path=video_path,\n",
    "    horizontal_flips=[False],\n",
    "    rotate_degrees=[0],\n",
    "    translates=[(0.0, 0.0), (0.1, 0.1), (-0.1, 0.1), (-0.1, -0.1), (0.1, -0.1)],\n",
    "    scales=[1.0],\n",
    ")\n",
    "y_hats.shape"
   ]
  },
  {
   "cell_type": "code",
   "execution_count": null,
   "metadata": {},
   "outputs": [],
   "source": [
    "y_hats_ = F.softmax(logits / temperature, dim=2)\n",
    "\n",
    "plot_base_probabilities(y_hats_[:5].cpu())"
   ]
  },
  {
   "cell_type": "code",
   "execution_count": null,
   "metadata": {},
   "outputs": [],
   "source": [
    "y_hats_, quality = calculate_quality(y_hats_)\n",
    "plot_quality(y_hats_.cpu(), quality.cpu()).show()"
   ]
  },
  {
   "cell_type": "code",
   "execution_count": null,
   "metadata": {},
   "outputs": [],
   "source": [
    "_, logits, y_hats = lable_transform_video(\n",
    "    video_path=video_path, horizontal_flips=[False], rotate_degrees=[0], translates=[(0.0, 0.0)], scales=[1.0, 1.2]\n",
    ")\n",
    "y_hats.shape"
   ]
  },
  {
   "cell_type": "code",
   "execution_count": null,
   "metadata": {},
   "outputs": [],
   "source": [
    "y_hats_ = F.softmax(logits / temperature, dim=2)\n",
    "\n",
    "plot_base_probabilities(y_hats_[:2].cpu())"
   ]
  },
  {
   "cell_type": "code",
   "execution_count": null,
   "metadata": {},
   "outputs": [],
   "source": [
    "y_hats_, quality = calculate_quality(y_hats_)\n",
    "plot_quality(y_hats_.cpu(), quality.cpu()).show()"
   ]
  },
  {
   "cell_type": "code",
   "execution_count": null,
   "metadata": {},
   "outputs": [],
   "source": [
    "_, logits, y_hats = lable_transform_video(\n",
    "    video_path=video_path,\n",
    "    horizontal_flips=[False, True],\n",
    "    rotate_degrees=[0, -15, 15],\n",
    "    translates=[(0.0, 0.0), (0.1, 0.1), (-0.1, 0.1), (-0.1, -0.1), (0.1, -0.1)],\n",
    "    scales=[1.0, 1.2],\n",
    ")\n",
    "y_hats.shape"
   ]
  },
  {
   "cell_type": "code",
   "execution_count": null,
   "metadata": {},
   "outputs": [],
   "source": [
    "y_hats_ = F.softmax(logits / temperature, dim=2)\n",
    "\n",
    "plot_base_probabilities(y_hats_[:4].cpu())"
   ]
  },
  {
   "cell_type": "code",
   "execution_count": null,
   "metadata": {},
   "outputs": [],
   "source": [
    "y_hats_, quality = calculate_quality(y_hats_)\n",
    "plot_quality(y_hats_.cpu(), quality.cpu()).show()"
   ]
  },
  {
   "cell_type": "code",
   "execution_count": null,
   "metadata": {},
   "outputs": [],
   "source": [
    "_, logits, y_hats = lable_transform_video(\n",
    "    video_path=video_path,\n",
    "    horizontal_flips=[False, True],\n",
    "    rotate_degrees=[0, -15, 15, -30, 30],\n",
    "    translates=list(itertools.product([0.0, 0.1, -0.1], [0.0, 0.1, -0.1])),\n",
    "    scales=[1.0, 1.2],\n",
    ")\n",
    "y_hats.shape"
   ]
  },
  {
   "cell_type": "code",
   "execution_count": null,
   "metadata": {},
   "outputs": [],
   "source": [
    "y_hats_ = F.softmax(logits / temperature, dim=2)\n",
    "\n",
    "plot_base_probabilities(y_hats_[:4].cpu())"
   ]
  },
  {
   "cell_type": "code",
   "execution_count": null,
   "metadata": {},
   "outputs": [],
   "source": [
    "y_hats_, quality = calculate_quality(y_hats_)\n",
    "plot_quality(y_hats_.cpu(), quality.cpu()).show()"
   ]
  },
  {
   "cell_type": "code",
   "execution_count": null,
   "metadata": {},
   "outputs": [],
   "source": [
    "_, logits, y_hats = lable_transform_video(\n",
    "    video_path=video_path,\n",
    "    horizontal_flips=[False, True],\n",
    "    rotate_degrees=[0, -15, 15, -30, 30],\n",
    "    translates=list(itertools.product([0.0, 0.1, -0.1], [0.0, 0.1, -0.1])),\n",
    "    scales=[1.0, 1.2, 1.5],\n",
    ")\n",
    "y_hats.shape"
   ]
  },
  {
   "cell_type": "code",
   "execution_count": null,
   "metadata": {},
   "outputs": [],
   "source": [
    "y_hats_ = F.softmax(logits / temperature, dim=2)\n",
    "\n",
    "plot_base_probabilities(y_hats_[:6].cpu())"
   ]
  },
  {
   "cell_type": "code",
   "execution_count": null,
   "metadata": {},
   "outputs": [],
   "source": [
    "y_hats_, quality = calculate_quality(y_hats_)\n",
    "plot_quality(y_hats_.cpu(), quality.cpu()).show()"
   ]
  }
 ],
 "metadata": {
  "kernelspec": {
   "display_name": "Python 3 (ipykernel)",
   "language": "python",
   "name": "python3"
  },
  "language_info": {
   "codemirror_mode": {
    "name": "ipython",
    "version": 3
   },
   "file_extension": ".py",
   "mimetype": "text/x-python",
   "name": "python",
   "nbconvert_exporter": "python",
   "pygments_lexer": "ipython3",
   "version": "3.10.9"
  }
 },
 "nbformat": 4,
 "nbformat_minor": 1
}
