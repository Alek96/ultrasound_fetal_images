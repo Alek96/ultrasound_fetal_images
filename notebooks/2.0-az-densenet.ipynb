{
 "cells": [
  {
   "cell_type": "code",
   "execution_count": null,
   "metadata": {},
   "outputs": [],
   "source": [
    "import pyrootutils\n",
    "\n",
    "root = pyrootutils.setup_root(__file__, indicator=\".project-root\", pythonpath=True)\n",
    "root"
   ]
  },
  {
   "cell_type": "code",
   "execution_count": null,
   "metadata": {},
   "outputs": [],
   "source": [
    "import torch\n",
    "from torch import nn\n",
    "from torchvision import models\n",
    "\n",
    "densenet = models.densenet169(weights=models.DenseNet169_Weights)\n",
    "\n",
    "print(densenet.features.conv0)\n",
    "print(densenet.features.conv0.weight.size())\n",
    "print(densenet.classifier)\n",
    "print(densenet.classifier.weight.size())\n",
    "\n",
    "conv = nn.Conv2d(\n",
    "    in_channels=1,\n",
    "    out_channels=densenet.features.conv0.out_channels,\n",
    "    kernel_size=densenet.features.conv0.kernel_size,\n",
    "    stride=densenet.features.conv0.stride,\n",
    "    padding=densenet.features.conv0.padding,\n",
    "    dilation=densenet.features.conv0.dilation,\n",
    "    groups=densenet.features.conv0.groups,\n",
    "    bias=densenet.features.conv0.bias is not None,\n",
    "    padding_mode=densenet.features.conv0.padding_mode,\n",
    ")\n",
    "conv.weight = nn.Parameter(torch.mean(densenet.features.conv0.weight, 1, True))\n",
    "densenet.features.conv0 = conv\n",
    "\n",
    "densenet.classifier = nn.Linear(\n",
    "    in_features=densenet.classifier.in_features,\n",
    "    out_features=6,\n",
    ")\n",
    "\n",
    "print(\"-----\")\n",
    "print(densenet.features.conv0)\n",
    "print(densenet.features.conv0.weight.size())\n",
    "print(densenet.classifier)\n",
    "print(densenet.classifier.weight.size())"
   ]
  },
  {
   "cell_type": "code",
   "execution_count": null,
   "metadata": {},
   "outputs": [],
   "source": [
    "from src.datamodules.fetal_planes import FetalPlanesDataModule\n",
    "\n",
    "dm = FetalPlanesDataModule(data_dir=root / \"data\", batch_size=32)\n",
    "dm.prepare_data()\n",
    "dm.setup()\n",
    "batch = next(iter(dm.train_dataloader()))\n",
    "x, y = batch\n",
    "\n",
    "densenet(x).size()"
   ]
  }
 ],
 "metadata": {
  "kernelspec": {
   "display_name": "Python 3 (ipykernel)",
   "language": "python",
   "name": "python3"
  },
  "language_info": {
   "codemirror_mode": {
    "name": "ipython",
    "version": 3
   },
   "file_extension": ".py",
   "mimetype": "text/x-python",
   "name": "python",
   "nbconvert_exporter": "python",
   "pygments_lexer": "ipython3",
   "version": "3.10.6"
  }
 },
 "nbformat": 4,
 "nbformat_minor": 1
}
